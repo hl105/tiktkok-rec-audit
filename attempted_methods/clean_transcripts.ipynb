{
 "cells": [
  {
   "cell_type": "markdown",
   "id": "871cd99b",
   "metadata": {},
   "source": [
    "### Notebook to merge transcription files, remove non-English transcriptions, and remove empty transcriptions"
   ]
  },
  {
   "cell_type": "code",
   "execution_count": 3,
   "id": "0277e812",
   "metadata": {},
   "outputs": [],
   "source": [
    "#https://www.geeksforgeeks.org/detect-an-unknown-language-using-python/"
   ]
  },
  {
   "cell_type": "code",
   "execution_count": 1,
   "id": "22c22d25",
   "metadata": {},
   "outputs": [],
   "source": [
    "import langid\n",
    "import pandas as pd"
   ]
  },
  {
   "cell_type": "code",
   "execution_count": 18,
   "id": "4daf051d",
   "metadata": {},
   "outputs": [
    {
     "name": "stdout",
     "output_type": "stream",
     "text": [
      "2243\n"
     ]
    }
   ],
   "source": [
    "#merge both batches of transcriptions\n",
    "og_transcripts = pd.read_csv('all_transcriptions.csv', names=['vid_id', 'transcript'])\n",
    "new_transcripts = pd.read_csv('more_transcriptions.csv', names=['vid_id', 'transcript'])\n",
    "\n",
    "all_transcripts = pd.concat([og_transcripts, new_transcripts], axis=0, ignore_index=True)\n",
    "all_transcripts.dropna(inplace=True)\n",
    "\n",
    "print(len(all_transcripts))"
   ]
  },
  {
   "cell_type": "code",
   "execution_count": 2,
   "id": "1a943ee0",
   "metadata": {},
   "outputs": [],
   "source": [
    "#check if transcript language is English\n",
    "def is_english(transcript):\n",
    "    language, num = langid.classify(transcript)\n",
    "    return language == 'en'"
   ]
  },
  {
   "cell_type": "code",
   "execution_count": 19,
   "id": "dca070b9",
   "metadata": {},
   "outputs": [
    {
     "name": "stdout",
     "output_type": "stream",
     "text": [
      "1731\n"
     ]
    }
   ],
   "source": [
    "#apply is_english function to remove non-English transcripts\n",
    "english_transcripts = all_transcripts[all_transcripts['transcript'].apply(is_english)]\n",
    "print(len(english_transcripts))"
   ]
  },
  {
   "cell_type": "code",
   "execution_count": 21,
   "id": "ba01deb8",
   "metadata": {},
   "outputs": [
    {
     "name": "stdout",
     "output_type": "stream",
     "text": [
      "1579\n"
     ]
    }
   ],
   "source": [
    "mask = english_transcripts['transcript'] == ('\\n' or  '.' or '. ')\n",
    "\n",
    "# select all rows except the ones that contain just '\\n' or '.'\n",
    "english_transcripts = english_transcripts[~mask]\n",
    "print(len(english_transcripts))"
   ]
  },
  {
   "cell_type": "code",
   "execution_count": 22,
   "id": "2584c53c",
   "metadata": {
    "scrolled": true
   },
   "outputs": [],
   "source": [
    "#strip newline character from all transcripts\n",
    "english_transcripts['transcript'] = english_transcripts['transcript'].str.replace('\\n', ' ')\n",
    "english_transcripts = english_transcripts.reset_index(drop=True)"
   ]
  },
  {
   "cell_type": "code",
   "execution_count": 17,
   "id": "88cea2e1",
   "metadata": {},
   "outputs": [],
   "source": [
    "english_transcripts.to_csv('english_transcriptions.csv', index=False)  "
   ]
  }
 ],
 "metadata": {
  "kernelspec": {
   "display_name": "Python 3 (ipykernel)",
   "language": "python",
   "name": "python3"
  },
  "language_info": {
   "codemirror_mode": {
    "name": "ipython",
    "version": 3
   },
   "file_extension": ".py",
   "mimetype": "text/x-python",
   "name": "python",
   "nbconvert_exporter": "python",
   "pygments_lexer": "ipython3",
   "version": "3.9.13"
  }
 },
 "nbformat": 4,
 "nbformat_minor": 5
}
