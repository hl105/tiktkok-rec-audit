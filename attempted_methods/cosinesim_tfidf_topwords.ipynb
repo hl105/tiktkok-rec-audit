{
 "cells": [
  {
   "cell_type": "markdown",
   "id": "291b208d",
   "metadata": {},
   "source": [
    "## Cosine similarity between recommended videos using top word vectors"
   ]
  },
  {
   "cell_type": "code",
   "execution_count": 1,
   "id": "35e0eca7",
   "metadata": {},
   "outputs": [],
   "source": [
    "import pandas as pd\n",
    "import re"
   ]
  },
  {
   "cell_type": "code",
   "execution_count": 2,
   "id": "bb048798",
   "metadata": {},
   "outputs": [],
   "source": [
    "pd.set_option('display.max_colwidth', None)"
   ]
  },
  {
   "cell_type": "markdown",
   "id": "cf7b7cc7",
   "metadata": {},
   "source": [
    "### 1. Set up our dataframe by getting the recommended videos associated with each distributed link corresponding to each persona"
   ]
  },
  {
   "cell_type": "code",
   "execution_count": 27,
   "id": "c2baeb38",
   "metadata": {},
   "outputs": [],
   "source": [
    "def make_rec_df(file_list, category_list, pyktok_data):\n",
    "    pyk_df = pd.read_csv(pyktok_data)\n",
    "    # create empty dataframe for all personas' recommended videos\n",
    "    rec_df = pd.DataFrame(columns=['category','distributed_link', 'distributed_id', 'rec_link', 'rec_id', 'rec_description', 'top_words', 'word_vectors','avg_vector'])\n",
    "    # loop through each persona's recommended videos file\n",
    "    for i in range(len(file_list)):\n",
    "        category = category_list[i] # get corresponding persona name (beauty, sports, society, or control)\n",
    "        persona_df = pd.read_csv(file_list[i])\n",
    "        for index, row in persona_df.iterrows():\n",
    "            distributed_id = (re.findall(r'video/(\\d+)', row['distributed_link']))[0]\n",
    "            row_urls = [row['rec_1'], row['rec_2'], row['rec_3'],\n",
    "                       row['rec_4'], row['rec_5'], row['rec_6'], row['rec_7'], row['rec_8']]\n",
    "            for url in row_urls:\n",
    "                if type(url) != float:\n",
    "                    rec_id = (re.findall(r'video/(\\d+)', url))[0]\n",
    "                    rec_description = ''\n",
    "                    try:\n",
    "                        rec_description = pyk_df.loc[pyk_df['video_id'] == int(rec_id), 'description'].iloc[0]\n",
    "                    except IndexError:\n",
    "                        continue\n",
    "                    rec_df.loc[len(rec_df)] = [category, row['distributed_link'], distributed_id, url, rec_id, rec_description, '', [], None]        \n",
    "    return rec_df"
   ]
  },
  {
   "cell_type": "code",
   "execution_count": 49,
   "id": "0ec3e9a3",
   "metadata": {},
   "outputs": [],
   "source": [
    "rec_df = make_rec_df(['Beauty_recommended.csv', 'sports_recommended.csv', 'fixed_society_recommended.csv', \n",
    "                     'fixed_control_society_recommended.csv'], ['beauty', 'sports', 'society', 'control'],\n",
    "                    'categorized_pyktok.csv')\n",
    "rec_df = rec_df[rec_df['rec_description'].notna()]\n",
    "rec_df = rec_df.reset_index(drop=True)"
   ]
  },
  {
   "cell_type": "markdown",
   "id": "0ec3bcb8",
   "metadata": {},
   "source": [
    "### 2. Use ***TF-IDF*** to get the top 10 most important words for each recommended video. \n",
    "\n",
    "Tutorial from: https://python.plainenglish.io/how-to-use-tf-idf-to-retrieve-most-significant-words-of-a-file-a-practical-python-guide-1c0426ba9567"
   ]
  },
  {
   "cell_type": "code",
   "execution_count": 50,
   "id": "e5ce4b84",
   "metadata": {},
   "outputs": [],
   "source": [
    "from sklearn.feature_extraction.text import TfidfVectorizer\n",
    "\n",
    "tf_idf_vect = TfidfVectorizer()\n",
    "\n",
    "tf_idf_matrix = tf_idf_vect.fit_transform(rec_df['rec_description'])\n",
    "\n",
    "feature_names = tf_idf_vect.get_feature_names_out()\n",
    "tfidf_scores = tf_idf_matrix.toarray()"
   ]
  },
  {
   "cell_type": "code",
   "execution_count": 51,
   "id": "d5d4bac4",
   "metadata": {},
   "outputs": [],
   "source": [
    "for i, row in rec_df.iterrows():\n",
    "    # sort words by TF-IDF scores and select the top 10 (or fewer)\n",
    "    if i < len(tfidf_scores):\n",
    "        important_words = [word for word, score in\n",
    "                           sorted(zip(feature_names, tfidf_scores[i]), key=lambda x: x[1], reverse=True)]\n",
    "        top_words = important_words[:min(10, len(important_words))]\n",
    "        rec_df.loc[i,'top_words'] = top_words   "
   ]
  },
  {
   "cell_type": "code",
   "execution_count": null,
   "id": "22701d30",
   "metadata": {},
   "outputs": [],
   "source": [
    "rec_df.to_csv('top_words_allrecs.csv')"
   ]
  },
  {
   "cell_type": "markdown",
   "id": "cea524a5",
   "metadata": {},
   "source": [
    "### 3. Represent each top word as a vector"
   ]
  },
  {
   "cell_type": "code",
   "execution_count": 52,
   "id": "325030a4",
   "metadata": {},
   "outputs": [
    {
     "name": "stdout",
     "output_type": "stream",
     "text": [
      "24090 7865\n"
     ]
    }
   ],
   "source": [
    "all_words = [word for word_list in rec_df['top_words'] for word in word_list]\n",
    "unique_words = list(set(all_words))\n",
    "print(len(all_words), len(unique_words))\n",
    "words = [[word] for word in unique_words]"
   ]
  },
  {
   "cell_type": "code",
   "execution_count": 9,
   "id": "49156a12",
   "metadata": {},
   "outputs": [],
   "source": [
    "from gensim.models import Word2Vec"
   ]
  },
  {
   "cell_type": "code",
   "execution_count": 53,
   "id": "e032938a",
   "metadata": {},
   "outputs": [],
   "source": [
    "model = Word2Vec(sentences=words, vector_size=100, window=5, min_count=1, workers=4)"
   ]
  },
  {
   "cell_type": "code",
   "execution_count": 54,
   "id": "d014cfe6",
   "metadata": {},
   "outputs": [],
   "source": [
    "for i, row in rec_df.iterrows():\n",
    "    top_words = row['top_words']\n",
    "    for word in top_words:\n",
    "        vector = model.wv[word]\n",
    "        row['word_vectors'].append(vector)"
   ]
  },
  {
   "cell_type": "markdown",
   "id": "0b2398be",
   "metadata": {},
   "source": [
    "### 4. Calculate the average word vector for each recommended video"
   ]
  },
  {
   "cell_type": "code",
   "execution_count": 55,
   "id": "08c27b5e",
   "metadata": {},
   "outputs": [],
   "source": [
    "import numpy as np\n",
    "\n",
    "for i, row in rec_df.iterrows():\n",
    "    # convert list of vectors to numpy array\n",
    "    array_of_vecs = np.array(row['word_vectors'])\n",
    "\n",
    "    # compute average vector using numpy\n",
    "    avg_vec = np.mean(array_of_vecs, axis=0)\n",
    "    \n",
    "    # add average vector to rec_df\n",
    "    row['avg_vector'] = avg_vec"
   ]
  },
  {
   "cell_type": "markdown",
   "id": "00733150",
   "metadata": {},
   "source": [
    "### 5. Cosine similarity\n",
    "\n",
    "For each distributed link corresponding to a persona, get all the recommended posts' vectors and compute the cosine similarity between them. This is to see how similar recommended videos are to each other."
   ]
  },
  {
   "cell_type": "code",
   "execution_count": 48,
   "id": "0522f01e",
   "metadata": {},
   "outputs": [],
   "source": [
    "from sklearn.metrics.pairwise import cosine_similarity"
   ]
  },
  {
   "cell_type": "code",
   "execution_count": 71,
   "id": "93c5dbd3",
   "metadata": {},
   "outputs": [],
   "source": [
    "# Define a custom function to compute cosine similarity\n",
    "def compute_cosine_similarity(vectors):\n",
    "    \"\"\"\n",
    "    Note: this method was written by ChatGPT\n",
    "    \"\"\"\n",
    "    if len(vectors) < 2:\n",
    "        return np.nan\n",
    "    else:\n",
    "        # Stack vectors vertically to form a matrix\n",
    "        matrix = np.vstack(vectors)\n",
    "        # Compute cosine similarity matrix\n",
    "        similarity_matrix = cosine_similarity(matrix)\n",
    "        # Return the upper triangle (excluding diagonal) as a flattened array\n",
    "        return similarity_matrix[np.triu_indices(similarity_matrix.shape[0], k=1)].mean()"
   ]
  },
  {
   "cell_type": "code",
   "execution_count": 89,
   "id": "c24a90fb",
   "metadata": {},
   "outputs": [
    {
     "data": {
      "text/html": [
       "<div>\n",
       "<style scoped>\n",
       "    .dataframe tbody tr th:only-of-type {\n",
       "        vertical-align: middle;\n",
       "    }\n",
       "\n",
       "    .dataframe tbody tr th {\n",
       "        vertical-align: top;\n",
       "    }\n",
       "\n",
       "    .dataframe thead th {\n",
       "        text-align: right;\n",
       "    }\n",
       "</style>\n",
       "<table border=\"1\" class=\"dataframe\">\n",
       "  <thead>\n",
       "    <tr style=\"text-align: right;\">\n",
       "      <th></th>\n",
       "      <th>category</th>\n",
       "      <th>distributed_link</th>\n",
       "      <th>cosine_similarity</th>\n",
       "    </tr>\n",
       "  </thead>\n",
       "  <tbody>\n",
       "    <tr>\n",
       "      <th>0</th>\n",
       "      <td>beauty</td>\n",
       "      <td>https://www.tiktok.com/@_giannalove/video/7325171122000055598</td>\n",
       "      <td>0.034966</td>\n",
       "    </tr>\n",
       "    <tr>\n",
       "      <th>1</th>\n",
       "      <td>beauty</td>\n",
       "      <td>https://www.tiktok.com/@_jessvu/video/7351058065128541470</td>\n",
       "      <td>0.069580</td>\n",
       "    </tr>\n",
       "    <tr>\n",
       "      <th>2</th>\n",
       "      <td>beauty</td>\n",
       "      <td>https://www.tiktok.com/@acarusbeauty/video/7329622096005319982</td>\n",
       "      <td>0.022782</td>\n",
       "    </tr>\n",
       "    <tr>\n",
       "      <th>3</th>\n",
       "      <td>beauty</td>\n",
       "      <td>https://www.tiktok.com/@adamesderick/video/7341151587798125867</td>\n",
       "      <td>0.023438</td>\n",
       "    </tr>\n",
       "    <tr>\n",
       "      <th>4</th>\n",
       "      <td>beauty</td>\n",
       "      <td>https://www.tiktok.com/@alexbabii97/video/7328073960015351086</td>\n",
       "      <td>-0.019112</td>\n",
       "    </tr>\n",
       "    <tr>\n",
       "      <th>...</th>\n",
       "      <td>...</td>\n",
       "      <td>...</td>\n",
       "      <td>...</td>\n",
       "    </tr>\n",
       "    <tr>\n",
       "      <th>365</th>\n",
       "      <td>sports</td>\n",
       "      <td>https://www.tiktok.com/@whitneyysimmons/video/7324808052903873834</td>\n",
       "      <td>0.200350</td>\n",
       "    </tr>\n",
       "    <tr>\n",
       "      <th>366</th>\n",
       "      <td>sports</td>\n",
       "      <td>https://www.tiktok.com/@y0mads/video/7323968997601611054</td>\n",
       "      <td>0.432523</td>\n",
       "    </tr>\n",
       "    <tr>\n",
       "      <th>367</th>\n",
       "      <td>sports</td>\n",
       "      <td>https://www.tiktok.com/@yourfavoriteguy/video/7337028694449458474</td>\n",
       "      <td>0.068639</td>\n",
       "    </tr>\n",
       "    <tr>\n",
       "      <th>368</th>\n",
       "      <td>sports</td>\n",
       "      <td>https://www.tiktok.com/@zambriiy/video/7324528286183345454</td>\n",
       "      <td>0.032881</td>\n",
       "    </tr>\n",
       "    <tr>\n",
       "      <th>369</th>\n",
       "      <td>sports</td>\n",
       "      <td>https://www.tiktok.com/@zion1edit/video/7326072711598361888</td>\n",
       "      <td>0.194598</td>\n",
       "    </tr>\n",
       "  </tbody>\n",
       "</table>\n",
       "<p>370 rows × 3 columns</p>\n",
       "</div>"
      ],
      "text/plain": [
       "    category  \\\n",
       "0     beauty   \n",
       "1     beauty   \n",
       "2     beauty   \n",
       "3     beauty   \n",
       "4     beauty   \n",
       "..       ...   \n",
       "365   sports   \n",
       "366   sports   \n",
       "367   sports   \n",
       "368   sports   \n",
       "369   sports   \n",
       "\n",
       "                                                      distributed_link  \\\n",
       "0        https://www.tiktok.com/@_giannalove/video/7325171122000055598   \n",
       "1            https://www.tiktok.com/@_jessvu/video/7351058065128541470   \n",
       "2       https://www.tiktok.com/@acarusbeauty/video/7329622096005319982   \n",
       "3       https://www.tiktok.com/@adamesderick/video/7341151587798125867   \n",
       "4        https://www.tiktok.com/@alexbabii97/video/7328073960015351086   \n",
       "..                                                                 ...   \n",
       "365  https://www.tiktok.com/@whitneyysimmons/video/7324808052903873834   \n",
       "366           https://www.tiktok.com/@y0mads/video/7323968997601611054   \n",
       "367  https://www.tiktok.com/@yourfavoriteguy/video/7337028694449458474   \n",
       "368         https://www.tiktok.com/@zambriiy/video/7324528286183345454   \n",
       "369        https://www.tiktok.com/@zion1edit/video/7326072711598361888   \n",
       "\n",
       "     cosine_similarity  \n",
       "0             0.034966  \n",
       "1             0.069580  \n",
       "2             0.022782  \n",
       "3             0.023438  \n",
       "4            -0.019112  \n",
       "..                 ...  \n",
       "365           0.200350  \n",
       "366           0.432523  \n",
       "367           0.068639  \n",
       "368           0.032881  \n",
       "369           0.194598  \n",
       "\n",
       "[370 rows x 3 columns]"
      ]
     },
     "execution_count": 89,
     "metadata": {},
     "output_type": "execute_result"
    }
   ],
   "source": [
    "# group by both 'category' and 'distributed_link'\n",
    "# apply the custom function to compute cosine similarity\n",
    "grouped_links_cosims = rec_df.groupby(['category', 'distributed_link'])['avg_vector'].apply(lambda x: compute_cosine_similarity(x)).reset_index()\n",
    "grouped_links_cosims.columns = ['category', 'distributed_link', 'cosine_similarity']\n",
    "\n",
    "grouped_links_cosims"
   ]
  },
  {
   "cell_type": "code",
   "execution_count": 91,
   "id": "7e7a0fbf",
   "metadata": {},
   "outputs": [],
   "source": [
    "# add column with video id\n",
    "vid_ids = []\n",
    "for i, row in grouped_links_cosims.iterrows():\n",
    "    vid_id = (re.findall(r'video/(\\d+)', row['distributed_link']))[0]\n",
    "    vid_ids.append(vid_id)\n",
    "grouped_links_cosims['distributed_id'] = vid_ids"
   ]
  },
  {
   "cell_type": "code",
   "execution_count": 92,
   "id": "c5513180",
   "metadata": {},
   "outputs": [
    {
     "data": {
      "text/html": [
       "<div>\n",
       "<style scoped>\n",
       "    .dataframe tbody tr th:only-of-type {\n",
       "        vertical-align: middle;\n",
       "    }\n",
       "\n",
       "    .dataframe tbody tr th {\n",
       "        vertical-align: top;\n",
       "    }\n",
       "\n",
       "    .dataframe thead th {\n",
       "        text-align: right;\n",
       "    }\n",
       "</style>\n",
       "<table border=\"1\" class=\"dataframe\">\n",
       "  <thead>\n",
       "    <tr style=\"text-align: right;\">\n",
       "      <th></th>\n",
       "      <th>category</th>\n",
       "      <th>distributed_link</th>\n",
       "      <th>cosine_similarity</th>\n",
       "      <th>distributed_id</th>\n",
       "    </tr>\n",
       "  </thead>\n",
       "  <tbody>\n",
       "    <tr>\n",
       "      <th>0</th>\n",
       "      <td>beauty</td>\n",
       "      <td>https://www.tiktok.com/@_giannalove/video/7325171122000055598</td>\n",
       "      <td>0.034966</td>\n",
       "      <td>7325171122000055598</td>\n",
       "    </tr>\n",
       "    <tr>\n",
       "      <th>1</th>\n",
       "      <td>beauty</td>\n",
       "      <td>https://www.tiktok.com/@_jessvu/video/7351058065128541470</td>\n",
       "      <td>0.069580</td>\n",
       "      <td>7351058065128541470</td>\n",
       "    </tr>\n",
       "    <tr>\n",
       "      <th>2</th>\n",
       "      <td>beauty</td>\n",
       "      <td>https://www.tiktok.com/@acarusbeauty/video/7329622096005319982</td>\n",
       "      <td>0.022782</td>\n",
       "      <td>7329622096005319982</td>\n",
       "    </tr>\n",
       "    <tr>\n",
       "      <th>3</th>\n",
       "      <td>beauty</td>\n",
       "      <td>https://www.tiktok.com/@adamesderick/video/7341151587798125867</td>\n",
       "      <td>0.023438</td>\n",
       "      <td>7341151587798125867</td>\n",
       "    </tr>\n",
       "    <tr>\n",
       "      <th>4</th>\n",
       "      <td>beauty</td>\n",
       "      <td>https://www.tiktok.com/@alexbabii97/video/7328073960015351086</td>\n",
       "      <td>-0.019112</td>\n",
       "      <td>7328073960015351086</td>\n",
       "    </tr>\n",
       "    <tr>\n",
       "      <th>...</th>\n",
       "      <td>...</td>\n",
       "      <td>...</td>\n",
       "      <td>...</td>\n",
       "      <td>...</td>\n",
       "    </tr>\n",
       "    <tr>\n",
       "      <th>365</th>\n",
       "      <td>sports</td>\n",
       "      <td>https://www.tiktok.com/@whitneyysimmons/video/7324808052903873834</td>\n",
       "      <td>0.200350</td>\n",
       "      <td>7324808052903873834</td>\n",
       "    </tr>\n",
       "    <tr>\n",
       "      <th>366</th>\n",
       "      <td>sports</td>\n",
       "      <td>https://www.tiktok.com/@y0mads/video/7323968997601611054</td>\n",
       "      <td>0.432523</td>\n",
       "      <td>7323968997601611054</td>\n",
       "    </tr>\n",
       "    <tr>\n",
       "      <th>367</th>\n",
       "      <td>sports</td>\n",
       "      <td>https://www.tiktok.com/@yourfavoriteguy/video/7337028694449458474</td>\n",
       "      <td>0.068639</td>\n",
       "      <td>7337028694449458474</td>\n",
       "    </tr>\n",
       "    <tr>\n",
       "      <th>368</th>\n",
       "      <td>sports</td>\n",
       "      <td>https://www.tiktok.com/@zambriiy/video/7324528286183345454</td>\n",
       "      <td>0.032881</td>\n",
       "      <td>7324528286183345454</td>\n",
       "    </tr>\n",
       "    <tr>\n",
       "      <th>369</th>\n",
       "      <td>sports</td>\n",
       "      <td>https://www.tiktok.com/@zion1edit/video/7326072711598361888</td>\n",
       "      <td>0.194598</td>\n",
       "      <td>7326072711598361888</td>\n",
       "    </tr>\n",
       "  </tbody>\n",
       "</table>\n",
       "<p>370 rows × 4 columns</p>\n",
       "</div>"
      ],
      "text/plain": [
       "    category  \\\n",
       "0     beauty   \n",
       "1     beauty   \n",
       "2     beauty   \n",
       "3     beauty   \n",
       "4     beauty   \n",
       "..       ...   \n",
       "365   sports   \n",
       "366   sports   \n",
       "367   sports   \n",
       "368   sports   \n",
       "369   sports   \n",
       "\n",
       "                                                      distributed_link  \\\n",
       "0        https://www.tiktok.com/@_giannalove/video/7325171122000055598   \n",
       "1            https://www.tiktok.com/@_jessvu/video/7351058065128541470   \n",
       "2       https://www.tiktok.com/@acarusbeauty/video/7329622096005319982   \n",
       "3       https://www.tiktok.com/@adamesderick/video/7341151587798125867   \n",
       "4        https://www.tiktok.com/@alexbabii97/video/7328073960015351086   \n",
       "..                                                                 ...   \n",
       "365  https://www.tiktok.com/@whitneyysimmons/video/7324808052903873834   \n",
       "366           https://www.tiktok.com/@y0mads/video/7323968997601611054   \n",
       "367  https://www.tiktok.com/@yourfavoriteguy/video/7337028694449458474   \n",
       "368         https://www.tiktok.com/@zambriiy/video/7324528286183345454   \n",
       "369        https://www.tiktok.com/@zion1edit/video/7326072711598361888   \n",
       "\n",
       "     cosine_similarity       distributed_id  \n",
       "0             0.034966  7325171122000055598  \n",
       "1             0.069580  7351058065128541470  \n",
       "2             0.022782  7329622096005319982  \n",
       "3             0.023438  7341151587798125867  \n",
       "4            -0.019112  7328073960015351086  \n",
       "..                 ...                  ...  \n",
       "365           0.200350  7324808052903873834  \n",
       "366           0.432523  7323968997601611054  \n",
       "367           0.068639  7337028694449458474  \n",
       "368           0.032881  7324528286183345454  \n",
       "369           0.194598  7326072711598361888  \n",
       "\n",
       "[370 rows x 4 columns]"
      ]
     },
     "execution_count": 92,
     "metadata": {},
     "output_type": "execute_result"
    }
   ],
   "source": [
    "grouped_links_cosims"
   ]
  },
  {
   "cell_type": "markdown",
   "id": "6b9503c5",
   "metadata": {},
   "source": [
    "### 6. Visualization"
   ]
  },
  {
   "cell_type": "code",
   "execution_count": 79,
   "id": "7e09466b",
   "metadata": {},
   "outputs": [],
   "source": [
    "from matplotlib import pyplot as plt"
   ]
  },
  {
   "cell_type": "code",
   "execution_count": 93,
   "id": "ee6476dd",
   "metadata": {},
   "outputs": [],
   "source": [
    "beauty_df = grouped_links_cosims[grouped_links_cosims['category'] == 'beauty']\n",
    "sports_df = grouped_links_cosims[grouped_links_cosims['category'] == 'sports']\n",
    "society_df = grouped_links_cosims[grouped_links_cosims['category'] == 'society']\n",
    "control_df = grouped_links_cosims[grouped_links_cosims['category'] == 'control']"
   ]
  },
  {
   "cell_type": "code",
   "execution_count": 109,
   "id": "607d02f7",
   "metadata": {},
   "outputs": [
    {
     "data": {
      "image/png": "[encoded data removed]",
      "text/plain": [
       "<Figure size 1000x600 with 1 Axes>"
      ]
     },
     "metadata": {},
     "output_type": "display_data"
    },
    {
     "data": {
      "image/png": "[encoded data removed]",
      "text/plain": [
       "<Figure size 1000x600 with 1 Axes>"
      ]
     },
     "metadata": {},
     "output_type": "display_data"
    },
    {
     "data": {
      "image/png": "[encoded data removed]",
      "text/plain": [
       "<Figure size 1000x600 with 1 Axes>"
      ]
     },
     "metadata": {},
     "output_type": "display_data"
    },
    {
     "data": {
      "image/png": "[encoded data removed]",
      "text/plain": [
       "<Figure size 1000x600 with 1 Axes>"
      ]
     },
     "metadata": {},
     "output_type": "display_data"
    }
   ],
   "source": [
    "# Beauty\n",
    "fig = plt.figure(figsize=(10, 6)) \n",
    "plt.bar(beauty_df['distributed_link'], beauty_df['cosine_similarity'])\n",
    "plt.xticks(visible=False)\n",
    "plt.xlabel(\"Distributed Links\")\n",
    "plt.ylabel(\"Cosine similarity\")\n",
    "\n",
    "plt.title(\"Cosine Similarity of Recommendations for Beauty Persona\")\n",
    "plt.show()\n",
    "\n",
    "# Sports\n",
    "fig = plt.figure(figsize=(10, 6)) \n",
    "plt.bar(sports_df['distributed_link'], sports_df['cosine_similarity'])\n",
    "plt.xticks(visible=False)\n",
    "plt.xlabel(\"Distributed links\")\n",
    "plt.ylabel(\"Cosine similarity\")\n",
    "\n",
    "plt.title(\"Cosine Similarity of Recommendations for Sports Persona\")\n",
    "plt.show()\n",
    "\n",
    "# Society\n",
    "fig = plt.figure(figsize=(10, 6)) \n",
    "plt.bar(society_df['distributed_link'], society_df['cosine_similarity'])\n",
    "plt.xticks(visible=False)\n",
    "plt.xlabel(\"Distributed links\")\n",
    "plt.ylabel(\"Cosine similarity\")\n",
    "\n",
    "plt.title(\"Cosine Similarity of Recommendations for Society Persona\")\n",
    "plt.show()\n",
    "\n",
    "# Control\n",
    "fig = plt.figure(figsize=(10, 6)) \n",
    "plt.bar(control_df['distributed_link'], control_df['cosine_similarity'])\n",
    "plt.xticks(visible=False)\n",
    "plt.xlabel(\"Distributed Links\")\n",
    "plt.ylabel(\"Cosine similarity\")\n",
    "\n",
    "plt.title(\"Cosine Similarity of Recommendations for Control\")\n",
    "plt.show()"
   ]
  }
 ],
 "metadata": {
  "kernelspec": {
   "display_name": "Python 3 (ipykernel)",
   "language": "python",
   "name": "python3"
  },
  "language_info": {
   "codemirror_mode": {
    "name": "ipython",
    "version": 3
   },
   "file_extension": ".py",
   "mimetype": "text/x-python",
   "name": "python",
   "nbconvert_exporter": "python",
   "pygments_lexer": "ipython3",
   "version": "3.9.13"
  }
 },
 "nbformat": 4,
 "nbformat_minor": 5
}
