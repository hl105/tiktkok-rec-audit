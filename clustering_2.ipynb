{
 "cells": [
  {
   "cell_type": "code",
   "execution_count": 1,
   "metadata": {},
   "outputs": [
    {
     "name": "stderr",
     "output_type": "stream",
     "text": [
      "2024-04-23 21:22:59.556643: I tensorflow/core/platform/cpu_feature_guard.cc:210] This TensorFlow binary is optimized to use available CPU instructions in performance-critical operations.\n",
      "To enable the following instructions: AVX2 FMA, in other operations, rebuild TensorFlow with the appropriate compiler flags.\n"
     ]
    }
   ],
   "source": [
    "import pandas as pd\n",
    "import matplotlib.pyplot as plt\n",
    "import tensorflow as tf\n",
    "import tensorflow_hub as hub\n",
    "import numpy as np\n",
    "from sklearn.cluster import KMeans\n",
    "from sklearn.manifold import TSNE\n",
    "import plotly.express as px\n",
    "\n",
    "# Load the Universal Sentence Encoder's TF Hub module\n",
    "embed = hub.load(\"https://tfhub.dev/google/universal-sentence-encoder/4\")"
   ]
  },
  {
   "cell_type": "code",
   "execution_count": 9,
   "metadata": {},
   "outputs": [
    {
     "name": "stdout",
     "output_type": "stream",
     "text": [
      "7328399559120424235\n",
      "7351316418132036906\n",
      "7337448931418180906\n",
      "7343021997191941418\n",
      "7337028694449458474\n",
      "7323797404011089198\n",
      "7334316740840574240\n",
      "7353865845061258513\n",
      "7351474612892470571\n",
      "7335151140415311146\n",
      "7350367044488957214\n",
      "7322216236874616071\n",
      "7357026311220612394\n",
      "7356393174585052458\n",
      "7238391829421395243\n",
      "7349646353267576107\n",
      "7349715155153931551\n",
      "7343001838003768618\n",
      "7287664074081586438\n",
      "7343439600372829483\n",
      "7345604222190390574\n",
      "7356733416546602282\n",
      "7328925121014500650\n",
      "7322185040853617921\n",
      "7346342355999460639\n",
      "7351058065128541470\n",
      "7308812062598237473\n",
      "7325175869620817198\n",
      "7355878522696600874\n",
      "7328128899236384031\n",
      "7341151587798125867\n",
      "7321883005050719534\n",
      "7356004064121015598\n",
      "7333325402301123883\n",
      "7354818318777306414\n",
      "7329622096005319982\n",
      "7358538332013366570\n",
      "7345990151597821226\n",
      "7342132710942493958\n",
      "7348616841389968686\n",
      "7350330174883335466\n",
      "7344410320183627050\n",
      "7330299774677110049\n",
      "7356039120021376302\n",
      "7325472083813666091\n",
      "7344054163388517664\n",
      "7324472966975196458\n",
      "7341874535274138886\n",
      "7343390993674177838\n",
      "7325818979757411616\n",
      "7323968997601611054\n",
      "7339696804839165227\n",
      "7356743717237312814\n",
      "7353691202740423969\n",
      "7332910661657365806\n",
      "7330031760375352582\n",
      "7334389380666150187\n",
      "7321877936989146414\n",
      "7341916431719714080\n",
      "7322217259160620331\n",
      "7353404576638242090\n",
      "7335958548041583880\n",
      "7326072711598361888\n",
      "7344182211605876014\n",
      "7349268064854117664\n",
      "7336767612707261738\n",
      "7326204935874350378\n",
      "7324808052903873834\n",
      "7329273345134939434\n",
      "7337118243460533547\n",
      "7355669409454902574\n",
      "7322451384014507307\n",
      "7326954352466349355\n",
      "7324528286183345454\n",
      "7329567296127601966\n",
      "7349664900228091167\n",
      "7347818606912146730\n",
      "7348162190538542379\n",
      "7333713465917328672\n",
      "7288851506059660590\n",
      "7339963987880299822\n",
      "7327815341093031210\n",
      "7343826274500021546\n",
      "7356325315381153066\n",
      "7327397121571835178\n",
      "7334095065071029547\n",
      "7328111534331202817\n",
      "7322303826210458922\n",
      "7328810190785056046\n",
      "7328073960015351086\n",
      "7327423854966557998\n",
      "7324389475226799402\n",
      "7351505891239251242\n",
      "7341108653442829601\n",
      "7355180110460374278\n",
      "7321696277274610990\n",
      "7332843670607170862\n",
      "7349770550111423790\n",
      "7328666215214288129\n",
      "7325171122000055598\n"
     ]
    },
    {
     "data": {
      "text/plain": [
       "list"
      ]
     },
     "execution_count": 9,
     "metadata": {},
     "output_type": "execute_result"
    }
   ],
   "source": [
    "import csv\n",
    "from urllib.parse import urlparse\n",
    "\n",
    "# Define the function to extract video IDs\n",
    "def extract_video_ids(csv_file):\n",
    "    video_ids = []\n",
    "    with open(csv_file, newline='') as csvfile:\n",
    "        reader = csv.DictReader(csvfile)\n",
    "        for row in reader:\n",
    "            link = row['link']\n",
    "            # Parse the URL to get the path\n",
    "            parsed_url = urlparse(link)\n",
    "            # Extract the video ID from the path\n",
    "            path_parts = parsed_url.path.split('/')\n",
    "            video_id = path_parts[-1]\n",
    "            video_ids.append(video_id)\n",
    "    return video_ids\n",
    "\n",
    "# Specify the path to your CSV file\n",
    "csv_file = 'links_all.csv'\n",
    "\n",
    "# Extract video IDs\n",
    "video_ids = extract_video_ids(csv_file)\n",
    "\n",
    "# Print the extracted video IDs\n",
    "for video_id in video_ids:\n",
    "    print(video_id)\n"
   ]
  },
  {
   "cell_type": "code",
   "execution_count": 7,
   "metadata": {},
   "outputs": [
    {
     "name": "stdout",
     "output_type": "stream",
     "text": [
      "Filtered CSVs created successfully.\n"
     ]
    }
   ],
   "source": []
  },
  {
   "cell_type": "code",
   "execution_count": null,
   "metadata": {},
   "outputs": [],
   "source": []
  }
 ],
 "metadata": {
  "kernelspec": {
   "display_name": "pyktok",
   "language": "python",
   "name": "python3"
  },
  "language_info": {
   "codemirror_mode": {
    "name": "ipython",
    "version": 3
   },
   "file_extension": ".py",
   "mimetype": "text/x-python",
   "name": "python",
   "nbconvert_exporter": "python",
   "pygments_lexer": "ipython3",
   "version": "3.12.2"
  }
 },
 "nbformat": 4,
 "nbformat_minor": 2
}
