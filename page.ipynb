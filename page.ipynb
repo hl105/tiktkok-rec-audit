{
 "cells": [
  {
   "cell_type": "code",
   "execution_count": 11,
   "metadata": {},
   "outputs": [],
   "source": [
    "import pandas as pd\n",
    "\n",
    "# Load the CSV file\n",
    "df = pd.read_csv('./links - Sheet1.csv')\n",
    "\n",
    "categories = ['Society', 'Food', 'Sports', 'Beauty Care']\n",
    "category_queues = {category: [] for category in categories}\n",
    "\n",
    "for _, row in df.iterrows():\n",
    "    category_queues[row['category']].append(row['link'])\n",
    "\n",
    "sorted_links = []\n",
    "while any(category_queues.values()):\n",
    "    for category in categories:\n",
    "        if category_queues[category]:\n",
    "            sorted_links.append([category_queues[category].pop(0)])\n",
    "\n",
    "sorted_df = pd.DataFrame(sorted_links, columns=['link'])\n",
    "sorted_df.to_csv('./links.csv', index=False)"
   ]
  }
 ],
 "metadata": {
  "kernelspec": {
   "display_name": "venv",
   "language": "python",
   "name": "python3"
  },
  "language_info": {
   "codemirror_mode": {
    "name": "ipython",
    "version": 3
   },
   "file_extension": ".py",
   "mimetype": "text/x-python",
   "name": "python",
   "nbconvert_exporter": "python",
   "pygments_lexer": "ipython3",
   "version": "3.11.4"
  },
  "orig_nbformat": 4,
  "vscode": {
   "interpreter": {
    "hash": "998e054e2a336645a1c034d50f95524bbbabc00cc66740a3f3687176c9a2862f"
   }
  }
 },
 "nbformat": 4,
 "nbformat_minor": 2
}
