{
 "cells": [
  {
   "cell_type": "code",
   "execution_count": 19,
   "metadata": {},
   "outputs": [],
   "source": [
    "import pandas as pd\n",
    "import json\n"
   ]
  },
  {
   "cell_type": "code",
   "execution_count": 13,
   "metadata": {},
   "outputs": [],
   "source": [
    "#clean data to seperate control data\n",
    "control_society_df = pd.read_csv(\"control_society_recommended.csv\")\n",
    "\n",
    "society_data = control_society_df[control_society_df[\"persona\"] == \"Society\"]\n",
    "control_data = control_society_df[control_society_df[\"persona\"] == \"control\"]\n",
    "\n",
    "society_data.to_csv(\"fixed_society_recommended.csv\", index=False)\n",
    "control_data.to_csv(\"fixed_control_society_recommended.csv\", index=False)\n"
   ]
  },
  {
   "cell_type": "code",
   "execution_count": 14,
   "metadata": {},
   "outputs": [
    {
     "name": "stdout",
     "output_type": "stream",
     "text": [
      "Number of rows in all datasets is the same.\n"
     ]
    }
   ],
   "source": [
    "# Read each dataset \n",
    "beauty_df = pd.read_csv(\"Beauty_recommended.csv\")\n",
    "sports_df = pd.read_csv(\"sports_recommended.csv\")\n",
    "society_df = pd.read_csv(\"fixed_society_recommended.csv\")\n",
    "control_society_df = pd.read_csv(\"fixed_control_society_recommended.csv\")\n",
    "\n",
    "# Check if the number of rows is the same for all datasets\n",
    "if len(beauty_df) == len(sports_df) == len(society_df) == len(control_society_df):\n",
    "    print(\"Number of rows in all datasets is the same.\")\n",
    "else:\n",
    "    print(\"Number of rows in datasets is not the same. Check your data.\")"
   ]
  },
  {
   "cell_type": "code",
   "execution_count": 17,
   "metadata": {},
   "outputs": [],
   "source": [
    "# Function to count non-empty rec_# columns for each row\n",
    "def count_non_empty(row):\n",
    "    return max(sum(1 for col in row[1:] if isinstance(col, str) and col.startswith(\"https://\")) , 0)\n"
   ]
  },
  {
   "cell_type": "code",
   "execution_count": 18,
   "metadata": {},
   "outputs": [],
   "source": [
    "# Count non-empty rec_# columns for each row in each dataset\n",
    "beauty_df['beauty_count'] = beauty_df.apply(count_non_empty, axis=1)\n",
    "sports_df['sports_count'] = sports_df.apply(count_non_empty, axis=1)\n",
    "society_df['society_count'] = society_df.apply(count_non_empty, axis=1)\n",
    "control_society_df['control_society_count'] = control_society_df.apply(count_non_empty, axis=1)\n",
    "\n",
    "# Merge the counts into a new DataFrame\n",
    "merged_df = beauty_df[['distributed_link', 'beauty_count']].merge(sports_df[['distributed_link', 'sports_count']], on='distributed_link', how='outer')\n",
    "merged_df = merged_df.merge(society_df[['distributed_link', 'society_count']], on='distributed_link', how='outer')\n",
    "merged_df = merged_df.merge(control_society_df[['distributed_link', 'control_society_count']], on='distributed_link', how='outer')\n",
    "\n",
    "# Fill NaN values with 0\n",
    "merged_df.fillna(0, inplace=True)\n",
    "\n",
    "# Save the new DataFrame to csv\n",
    "merged_df.to_csv(\"merged_counts.csv\", index=False)"
   ]
  },
  {
   "cell_type": "code",
   "execution_count": 31,
   "metadata": {},
   "outputs": [],
   "source": [
    "# Merge for pyktok\n",
    "# Filter the DataFrame to keep only the rows with count of 4 \"8\"s\n",
    "filtered_df = merged_df[(merged_df['beauty_count'] == 8) & \n",
    "                        (merged_df['sports_count'] == 8) & \n",
    "                        (merged_df['society_count'] == 8) & \n",
    "                        (merged_df['control_society_count'] == 8)]\n"
   ]
  },
  {
   "cell_type": "code",
   "execution_count": 28,
   "metadata": {},
   "outputs": [
    {
     "name": "stderr",
     "output_type": "stream",
     "text": [
      "/var/folders/mc/sgypv2yj51sbjjnm2x0y1ryw0000gn/T/ipykernel_26744/1457864378.py:4: SettingWithCopyWarning: \n",
      "A value is trying to be set on a copy of a slice from a DataFrame.\n",
      "Try using .loc[row_indexer,col_indexer] = value instead\n",
      "\n",
      "See the caveats in the documentation: https://pandas.pydata.org/pandas-docs/stable/user_guide/indexing.html#returning-a-view-versus-a-copy\n",
      "  filtered_df['rec_links'] = filtered_df.apply(lambda row: {\n"
     ]
    }
   ],
   "source": [
    "\n",
    "datasets = [(beauty_df, 'beauty'), (sports_df, 'sports'), (society_df, 'society'), (control_society_df, 'control_society')]\n",
    "\n",
    "# Merge all rec_# links from the four datasets\n",
    "filtered_df['rec_links'] = filtered_df.apply(lambda row: {\n",
    "    f\"{prefix}_rec_{i}\": dataset.loc[dataset['distributed_link'] == row['distributed_link'], f\"rec_{i}\"].values[0]\n",
    "    for dataset, prefix in datasets for i in range(1, 9)\n",
    "}, axis=1)"
   ]
  },
  {
   "cell_type": "code",
   "execution_count": 29,
   "metadata": {},
   "outputs": [],
   "source": [
    "# Save the DataFrame to JSON\n",
    "json_data = filtered_df.to_json(orient='records')\n",
    "\n",
    "# Write JSON data to file\n",
    "with open(\"filtered_data.json\", \"w\") as json_file:\n",
    "    json_file.write(json_data)"
   ]
  },
  {
   "cell_type": "code",
   "execution_count": 33,
   "metadata": {},
   "outputs": [],
   "source": [
    "# Merge for Whisper\n",
    "merged_rec_df = pd.read_csv(\"merged_recommended.csv\")\n",
    "\n",
    "filtered_merged_df = pd.merge(merged_rec_df, filtered_df[['distributed_link']], on='distributed_link', how='inner')\n",
    "\n",
    "filtered_merged_df.to_csv(\"filtered_merged_recommended.csv\", index=False)\n"
   ]
  }
 ],
 "metadata": {
  "kernelspec": {
   "display_name": "base",
   "language": "python",
   "name": "python3"
  },
  "language_info": {
   "codemirror_mode": {
    "name": "ipython",
    "version": 3
   },
   "file_extension": ".py",
   "mimetype": "text/x-python",
   "name": "python",
   "nbconvert_exporter": "python",
   "pygments_lexer": "ipython3",
   "version": "3.11.5"
  },
  "orig_nbformat": 4
 },
 "nbformat": 4,
 "nbformat_minor": 2
}
