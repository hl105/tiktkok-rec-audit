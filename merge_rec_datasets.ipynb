{
 "cells": [
  {
   "cell_type": "code",
   "execution_count": 1,
   "metadata": {},
   "outputs": [],
   "source": [
    "import pandas as pd\n"
   ]
  },
  {
   "cell_type": "code",
   "execution_count": 13,
   "metadata": {},
   "outputs": [],
   "source": [
    "#clean data to seperate control data\n",
    "control_society_df = pd.read_csv(\"control_society_recommended.csv\")\n",
    "\n",
    "society_data = control_society_df[control_society_df[\"persona\"] == \"Society\"]\n",
    "control_data = control_society_df[control_society_df[\"persona\"] == \"control\"]\n",
    "\n",
    "society_data.to_csv(\"fixed_society_recommended.csv\", index=False)\n",
    "control_data.to_csv(\"fixed_control_society_recommended.csv\", index=False)\n"
   ]
  },
  {
   "cell_type": "code",
   "execution_count": 14,
   "metadata": {},
   "outputs": [
    {
     "name": "stdout",
     "output_type": "stream",
     "text": [
      "Number of rows in all datasets is the same.\n"
     ]
    }
   ],
   "source": [
    "# Read each dataset \n",
    "beauty_df = pd.read_csv(\"Beauty_recommended.csv\")\n",
    "sports_df = pd.read_csv(\"sports_recommended.csv\")\n",
    "society_df = pd.read_csv(\"fixed_society_recommended.csv\")\n",
    "control_society_df = pd.read_csv(\"fixed_control_society_recommended.csv\")\n",
    "\n",
    "# Check if the number of rows is the same for all datasets\n",
    "if len(beauty_df) == len(sports_df) == len(society_df) == len(control_society_df):\n",
    "    print(\"Number of rows in all datasets is the same.\")\n",
    "else:\n",
    "    print(\"Number of rows in datasets is not the same. Check your data.\")"
   ]
  },
  {
   "cell_type": "code",
   "execution_count": 15,
   "metadata": {},
   "outputs": [],
   "source": [
    "# Function to count non-empty rec_# columns for each row\n",
    "def count_non_empty(row):\n",
    "    return max(sum(1 for col in row[1:] if isinstance(col, str) and col.startswith(\"https://\")) - 1, 0)\n"
   ]
  },
  {
   "cell_type": "code",
   "execution_count": 16,
   "metadata": {},
   "outputs": [],
   "source": [
    "# Count non-empty rec_# columns for each row in each dataset\n",
    "beauty_df['beauty_count'] = beauty_df.apply(count_non_empty, axis=1)\n",
    "sports_df['sports_count'] = sports_df.apply(count_non_empty, axis=1)\n",
    "society_df['society_count'] = society_df.apply(count_non_empty, axis=1)\n",
    "control_society_df['control_society_count'] = control_society_df.apply(count_non_empty, axis=1)\n",
    "\n",
    "# Merge the counts into a new DataFrame\n",
    "merged_df = beauty_df[['distributed_link', 'beauty_count']].merge(sports_df[['distributed_link', 'sports_count']], on='distributed_link', how='outer')\n",
    "merged_df = merged_df.merge(society_df[['distributed_link', 'society_count']], on='distributed_link', how='outer')\n",
    "merged_df = merged_df.merge(control_society_df[['distributed_link', 'control_society_count']], on='distributed_link', how='outer')\n",
    "\n",
    "# Fill NaN values with 0\n",
    "merged_df.fillna(0, inplace=True)\n",
    "\n",
    "# Save the new DataFrame to csv\n",
    "merged_df.to_csv(\"merged_counts.csv\", index=False)"
   ]
  }
 ],
 "metadata": {
  "kernelspec": {
   "display_name": "base",
   "language": "python",
   "name": "python3"
  },
  "language_info": {
   "codemirror_mode": {
    "name": "ipython",
    "version": 3
   },
   "file_extension": ".py",
   "mimetype": "text/x-python",
   "name": "python",
   "nbconvert_exporter": "python",
   "pygments_lexer": "ipython3",
   "version": "3.11.5"
  },
  "orig_nbformat": 4
 },
 "nbformat": 4,
 "nbformat_minor": 2
}
