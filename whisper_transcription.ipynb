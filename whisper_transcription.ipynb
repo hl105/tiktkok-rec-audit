{
 "cells": [
  {
   "cell_type": "markdown",
   "id": "6c4d5be6",
   "metadata": {},
   "source": [
    "# Transcribing TikTok videos using OpenAI Whisper\n",
    "\n",
    "**Author**: Catherine Foster \\\n",
    "**Date**: 4/22/24"
   ]
  },
  {
   "cell_type": "code",
   "execution_count": null,
   "id": "67ae60f4",
   "metadata": {
    "scrolled": true
   },
   "outputs": [],
   "source": [
    "import pyktok as pyk\n",
    "import logging\n",
    "import time\n",
    "from openai import OpenAI\n",
    "from openai import APIStatusError\n",
    "import whisper\n",
    "import torch\n",
    "import os\n",
    "import numpy\n",
    "import re\n",
    "import pandas as pd"
   ]
  },
  {
   "cell_type": "code",
   "execution_count": null,
   "id": "07314ffa",
   "metadata": {},
   "outputs": [],
   "source": [
    "recs_df = pd.read_csv('filtered_merged_recommended.csv')\n",
    "recs_df.head()"
   ]
  },
  {
   "cell_type": "code",
   "execution_count": null,
   "id": "a17c9b0b",
   "metadata": {},
   "outputs": [],
   "source": [
    "urls = []\n",
    "\n",
    "for index, row in recs_df.iterrows():\n",
    "    row_urls = [row['distributed_link'], row['rec_1'], row['rec_2'], row['rec_3'],\n",
    "               row['rec_4'], row['rec_5'], row['rec_6'], row['rec_7'], row['rec_8']]\n",
    "    for url in row_urls:\n",
    "        if url not in urls:\n",
    "            urls.append(url)"
   ]
  },
  {
   "cell_type": "code",
   "execution_count": null,
   "id": "81ec6af2",
   "metadata": {},
   "outputs": [],
   "source": [
    "len(urls)"
   ]
  },
  {
   "cell_type": "code",
   "execution_count": null,
   "id": "57f8fc3f",
   "metadata": {},
   "outputs": [],
   "source": [
    "#Download video files from TikTok links\n",
    "logger = logging.getLogger()\n",
    "file_handler = logging.FileHandler('download_failures.log')\n",
    "logger.addHandler(file_handler)\n",
    "\n",
    "pyk.specify_browser('chrome')\n",
    "for url in urls:\n",
    "    try:\n",
    "        pyk.save_tiktok(url)\n",
    "        time.sleep(3)\n",
    "    except Exception as ex:\n",
    "        logger.warning(\"error while processing item: %s\", ex)"
   ]
  },
  {
   "cell_type": "code",
   "execution_count": null,
   "id": "6dd6a5bd",
   "metadata": {},
   "outputs": [],
   "source": [
    "# Insert your OpenAI API key below\n",
    "client = OpenAI(api_key='')\n",
    "\n",
    "transcript_list = []\n",
    "\n",
    "for filename in os.listdir('videos'):\n",
    "    mp4file = open(f\"videos/{filename}\", \"rb\") \n",
    "    try: \n",
    "        transcription = client.audio.transcriptions.create(\n",
    "            model=\"whisper-1\", \n",
    "            file=mp4file, \n",
    "            response_format=\"text\"\n",
    "        )\n",
    "    except APIStatusError: #if video is too long, skip\n",
    "        continue\n",
    "    vid_id = (re.findall(r'video_(\\d+)\\.mp4', mp4file.name))[0]\n",
    "    transcript_list.append([vid_id, transcription])\n",
    "    \n",
    "transcriptions = pd.DataFrame(transcript_list, columns = \n",
    "                             ['video_id', 'transcription'])\n",
    "transcriptions.to_csv('transcriptions.csv')"
   ]
  }
 ],
 "metadata": {
  "kernelspec": {
   "display_name": "Python 3 (ipykernel)",
   "language": "python",
   "name": "python3"
  },
  "language_info": {
   "codemirror_mode": {
    "name": "ipython",
    "version": 3
   },
   "file_extension": ".py",
   "mimetype": "text/x-python",
   "name": "python",
   "nbconvert_exporter": "python",
   "pygments_lexer": "ipython3",
   "version": "3.9.13"
  }
 },
 "nbformat": 4,
 "nbformat_minor": 5
}
